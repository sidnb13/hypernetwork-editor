{
 "cells": [
  {
   "cell_type": "code",
   "execution_count": 9,
   "metadata": {},
   "outputs": [],
   "source": [
    "import os\n",
    "import sys\n",
    "from transformers import AutoTokenizer\n",
    "import datasets\n",
    "import torch\n",
    "\n",
    "sys.path.append(\"../\")\n",
    "\n",
    "from models.gpt2 import GPT2Editor, GPT2EditorConfig"
   ]
  },
  {
   "cell_type": "code",
   "execution_count": 2,
   "metadata": {},
   "outputs": [
    {
     "data": {
      "application/vnd.jupyter.widget-view+json": {
       "model_id": "250aafe0c0b54e6da6cfe683619bd52f",
       "version_major": 2,
       "version_minor": 0
      },
      "text/plain": [
       "Resolving data files:   0%|          | 0/1024 [00:00<?, ?it/s]"
      ]
     },
     "metadata": {},
     "output_type": "display_data"
    },
    {
     "data": {
      "application/vnd.jupyter.widget-view+json": {
       "model_id": "1065e1c265c84c109e4c971ef83f583e",
       "version_major": 2,
       "version_minor": 0
      },
      "text/plain": [
       "Resolving data files:   0%|          | 0/1024 [00:00<?, ?it/s]"
      ]
     },
     "metadata": {},
     "output_type": "display_data"
    }
   ],
   "source": [
    "dataset = datasets.load_dataset(\"allenai/c4\", \"en\", split=\"train\", streaming=True)"
   ]
  },
  {
   "cell_type": "code",
   "execution_count": 3,
   "metadata": {},
   "outputs": [
    {
     "data": {
      "text/plain": [
       "IterableDataset({\n",
       "    features: ['text', 'timestamp', 'url'],\n",
       "    n_shards: 1024\n",
       "})"
      ]
     },
     "execution_count": 3,
     "metadata": {},
     "output_type": "execute_result"
    }
   ],
   "source": [
    "dataset"
   ]
  },
  {
   "cell_type": "code",
   "execution_count": 4,
   "metadata": {},
   "outputs": [
    {
     "name": "stdout",
     "output_type": "stream",
     "text": [
      "{'text': 'Beginners BBQ Class Taking Place in Missoula!\\nDo you want to get better at making delicious BBQ? You will have the opportunity, put this on your calendar now. Thursday, September 22nd join World Class BBQ Champion, Tony Balay from Lonestar Smoke Rangers. He will be teaching a beginner level class for everyone who wants to get better with their culinary skills.\\nHe will teach you everything you need to know to compete in a KCBS BBQ competition, including techniques, recipes, timelines, meat selection and trimming, plus smoker and fire information.\\nThe cost to be in the class is $35 per person, and for spectators it is free. Included in the cost will be either a t-shirt or apron and you will be tasting samples of each meat that is prepared.', 'timestamp': '2019-04-25 12:57:54', 'url': 'https://klyq.com/beginners-bbq-class-taking-place-in-missoula/'}\n",
      "{'text': 'Discussion in \\'Mac OS X Lion (10.7)\\' started by axboi87, Jan 20, 2012.\\nI\\'ve got a 500gb internal drive and a 240gb SSD.\\nWhen trying to restore using disk utility i\\'m given the error \"Not enough space on disk ____ to restore\"\\nBut I shouldn\\'t have to do that!!!\\nAny ideas or workarounds before resorting to the above?\\nUse Carbon Copy Cloner to copy one drive to the other. I\\'ve done this several times going from larger HDD to smaller SSD and I wound up with a bootable SSD drive. One step you have to remember not to skip is to use Disk Utility to partition the SSD as GUID partition scheme HFS+ before doing the clone. If it came Apple Partition Scheme, even if you let CCC do the clone, the resulting drive won\\'t be bootable. CCC usually works in \"file mode\" and it can easily copy a larger drive (that\\'s mostly empty) onto a smaller drive. If you tell CCC to clone a drive you did NOT boot from, it can work in block copy mode where the destination drive must be the same size or larger than the drive you are cloning from (if I recall).\\nI\\'ve actually done this somehow on Disk Utility several times (booting from a different drive (or even the dvd) so not running disk utility from the drive your cloning) and had it work just fine from larger to smaller bootable clone. Definitely format the drive cloning to first, as bootable Apple etc..\\nThanks for pointing this out. My only experience using DU to go larger to smaller was when I was trying to make a Lion install stick and I was unable to restore InstallESD.dmg to a 4 GB USB stick but of course the reason that wouldn\\'t fit is there was slightly more than 4 GB of data.', 'timestamp': '2019-04-21 10:07:13', 'url': 'https://forums.macrumors.com/threads/restore-from-larger-disk-to-smaller-disk.1311329/'}\n",
      "{'text': 'Foil plaid lycra and spandex shortall with metallic slinky insets. Attached metallic elastic belt with O-ring. Headband included. Great hip hop or jazz dance costume. Made in the USA.', 'timestamp': '2019-04-25 10:40:23', 'url': 'https://awishcometrue.com/Catalogs/Clearance/Tweens/V1960-Find-A-Way'}\n",
      "{'text': \"How many backlinks per day for new site?\\nDiscussion in 'Black Hat SEO' started by Omoplata, Dec 3, 2010.\\n1) for a newly created site, what's the max # backlinks per day I should do to be safe?\\n2) how long do I have to let my site age before I can start making more blinks?\\nI did about 6000 forum profiles every 24 hours for 10 days for one of my sites which had a brand new domain.\\nThere is three backlinks for every of these forum profile so thats 18 000 backlinks every 24 hours and nothing happened in terms of being penalized or sandboxed. This is now maybe 3 months ago and the site is ranking on first page for a lot of my targeted keywords.\\nbuild more you can in starting but do manual submission and not spammy type means manual + relevant to the post.. then after 1 month you can make a big blast..\\nWow, dude, you built 18k backlinks a day on a brand new site? How quickly did you rank up? What kind of competition/searches did those keywords have?\", 'timestamp': '2019-04-21 12:46:19', 'url': 'https://www.blackhatworld.com/seo/how-many-backlinks-per-day-for-new-site.258615/'}\n",
      "{'text': 'The Denver Board of Education opened the 2017-18 school year with an update on projects that include new construction, upgrades, heat mitigation and quality learning environments.\\nWe are excited that Denver students will be the beneficiaries of a four year, $572 million General Obligation Bond. Since the passage of the bond, our construction team has worked to schedule the projects over the four-year term of the bond.\\nDenver voters on Tuesday approved bond and mill funding measures for students in Denver Public Schools, agreeing to invest $572 million in bond funding to build and improve schools and $56.6 million in operating dollars to support proven initiatives, such as early literacy.\\nDenver voters say yes to bond and mill levy funding support for DPS students and schools. Click to learn more about the details of the voter-approved bond measure.\\nDenver voters on Nov. 8 approved bond and mill funding measures for DPS students and schools. Learn more about what’s included in the mill levy measure.', 'timestamp': '2019-04-20 14:33:21', 'url': 'http://bond.dpsk12.org/category/news/'}\n"
     ]
    }
   ],
   "source": [
    "limit = 5\n",
    "for i, example in enumerate(dataset):\n",
    "    if i >= limit:\n",
    "        break\n",
    "    print(example)"
   ]
  },
  {
   "cell_type": "code",
   "execution_count": 5,
   "metadata": {},
   "outputs": [],
   "source": [
    "checkpoint = \"/home/sid/hypernetwork-editor/assets/checkpoints/wikipedia-full_20240630_022740/step-20686\""
   ]
  },
  {
   "cell_type": "code",
   "execution_count": 6,
   "metadata": {},
   "outputs": [],
   "source": [
    "import os\n",
    "from omegaconf import OmegaConf\n",
    "\n",
    "config_path = os.path.join(checkpoint, \"config.yaml\")\n",
    "config = OmegaConf.load(config_path)\n"
   ]
  },
  {
   "cell_type": "code",
   "execution_count": 7,
   "metadata": {},
   "outputs": [],
   "source": [
    "model_config = GPT2EditorConfig(\n",
    "    _name_or_path=config.model.name_or_path,\n",
    "    edit_channel_multiply_factor=config.model.edit_channel_multiply_factor,\n",
    "    chop_editor_at_layer=config.model.chop_editor_at_layer,\n",
    "    num_editing_heads=config.model.num_editing_heads,\n",
    "    use_layerwise_embeddings=config.model.use_layerwise_embeddings,\n",
    "    edit_dampening_factor=config.model.edit_dampening_factor,\n",
    "    kill_token_zero=config.model.kill_token_zero,\n",
    "    use_ghost_token=config.model.use_ghost_token,\n",
    "    compute_position_ids=config.model.compute_position_ids,\n",
    "    cross_attn_layers=list(config.model.cross_attn_layers),\n",
    "    restrict_edit_to_layers=list(config.model.restrict_edit_to_layers),\n",
    "    restrict_edit_to_positions=list(config.model.restrict_edit_to_positions),\n",
    ")\n",
    "\n",
    "model = GPT2Editor(model_config).cuda()\n",
    "\n",
    "model.load_state_dict(torch.load(os.path.join(checkpoint, \"checkpoint.pt\"), map_location=\"cpu\")[\"hypernetwork\"])"
   ]
  },
  {
   "cell_type": "code",
   "execution_count": 16,
   "metadata": {},
   "outputs": [],
   "source": [
    "tokenizer = AutoTokenizer.from_pretrained(\"gpt2\")\n",
    "tokenizer.pad_token_id  = tokenizer.eos_token_id\n",
    "tokenizer.padding_side = \"right\""
   ]
  },
  {
   "cell_type": "code",
   "execution_count": 32,
   "metadata": {},
   "outputs": [],
   "source": [
    "K = 10  # Define the number of tokens for the editor\n",
    "\n",
    "\n",
    "def process_text(batch):\n",
    "    editor_input_ids = []\n",
    "    target_input_ids = []\n",
    "    editor_attention_mask = []\n",
    "    target_attention_mask = []\n",
    "\n",
    "    for document in batch[\"text\"]:\n",
    "        tokenized = tokenizer(\n",
    "            document,\n",
    "            return_tensors=\"pt\",\n",
    "            padding=\"max_length\",\n",
    "            truncation=True,\n",
    "            max_length=512,\n",
    "        )\n",
    "        input_ids = tokenized[\"input_ids\"].squeeze()\n",
    "        attention_mask = tokenized[\"attention_mask\"].squeeze()\n",
    "\n",
    "        editor_input_ids.append(input_ids[:K])\n",
    "        target_input_ids.append(input_ids[K:])\n",
    "        editor_attention_mask.append(attention_mask[:K])\n",
    "        target_attention_mask.append(attention_mask[K:])\n",
    "\n",
    "    batch[\"editor_input_ids\"] = torch.stack(editor_input_ids)\n",
    "    batch[\"target_input_ids\"] = torch.stack(target_input_ids)\n",
    "    batch[\"editor_attention_mask\"] = torch.stack(editor_attention_mask)\n",
    "    batch[\"target_attention_mask\"] = torch.stack(target_attention_mask)\n",
    "\n",
    "    return batch"
   ]
  },
  {
   "cell_type": "code",
   "execution_count": 50,
   "metadata": {},
   "outputs": [],
   "source": [
    "processed = dataset.map(process_text, batched=True)"
   ]
  },
  {
   "cell_type": "code",
   "execution_count": 51,
   "metadata": {},
   "outputs": [],
   "source": [
    "device = torch.device(\"cuda\" if torch.cuda.is_available() else \"cpu\")\n",
    "out = model(\n",
    "    editor_input_ids=example[\"editor_input_ids\"].unsqueeze(0).to(device),\n",
    "    editor_attention_mask=example[\"editor_attention_mask\"].unsqueeze(0).to(device),\n",
    "    target_input_ids=example[\"target_input_ids\"].unsqueeze(0).to(device),\n",
    "    target_attention_mask=example[\"target_attention_mask\"].unsqueeze(0).to(device),\n",
    "    stop_editing_idx=8\n",
    ")\n"
   ]
  },
  {
   "cell_type": "code",
   "execution_count": 60,
   "metadata": {},
   "outputs": [],
   "source": [
    "from math import exp\n",
    "\n",
    "import torch\n",
    "\n",
    "from train_utils import compute_ce_loss\n",
    "\n",
    "\n",
    "def compute_perplexity(\n",
    "    model,\n",
    "    dataset,\n",
    "    batch_size: int,\n",
    "    rank: int,\n",
    "    world_size: int,\n",
    "    stop_editing_idx: int = None,\n",
    "    lam: float = 0.0,\n",
    "    num_examples: int = None,\n",
    "):\n",
    "    all_losses = []\n",
    "    example_count = 0\n",
    "    for batch in processed.iter(batch_size):\n",
    "        if num_examples is not None and example_count >= num_examples:\n",
    "            break\n",
    "        \n",
    "        # Remove keys not used in the model input\n",
    "        model_input = {\n",
    "            k: torch.stack(v) if isinstance(v, list) and all(isinstance(i, torch.Tensor) for i in v) else v\n",
    "            for k, v in batch.items() if k in model.forward.__code__.co_varnames\n",
    "        }\n",
    "\n",
    "        # Compute cross-entropy loss\n",
    "        loss, _, _ = compute_ce_loss(\n",
    "            model,\n",
    "            model_input,\n",
    "            rank,\n",
    "            world_size,\n",
    "            stop_editing_idx=stop_editing_idx,\n",
    "            lam=lam,\n",
    "        )\n",
    "\n",
    "        # Calculate perplexity\n",
    "        ppl = exp(loss.item())\n",
    "        all_losses.append(ppl)\n",
    "\n",
    "        example_count += batch_size\n",
    "\n",
    "    # Aggregate results and present summary statistics\n",
    "    avg_ppl = sum(all_losses) / len(all_losses)\n",
    "    max_ppl = max(all_losses)\n",
    "    min_ppl = min(all_losses)\n",
    "\n",
    "    summary_stats = {\n",
    "        \"average_perplexity\": avg_ppl,\n",
    "        \"max_perplexity\": max_ppl,\n",
    "        \"min_perplexity\": min_ppl,\n",
    "        \"perplexities\": all_losses,\n",
    "    }\n",
    "\n",
    "    return summary_stats\n",
    "\n",
    "\n",
    "# Example usage\n",
    "# summary_stats = compute_perplexity(model, dataset, batch_size=32, rank=0, world_size=1, num_examples=100)\n",
    "# print(summary_stats)"
   ]
  },
  {
   "cell_type": "code",
   "execution_count": 64,
   "metadata": {},
   "outputs": [],
   "source": [
    "summary_stats = compute_perplexity(model, dataset, batch_size=2, rank=0, world_size=1, num_examples=128, stop_editing_idx=8)"
   ]
  },
  {
   "cell_type": "code",
   "execution_count": 65,
   "metadata": {},
   "outputs": [
    {
     "data": {
      "text/plain": [
       "{'average_perplexity': 36.9587990446811,\n",
       " 'max_perplexity': 113.91251226222751,\n",
       " 'min_perplexity': 15.231759844455793,\n",
       " 'perplexities': [38.21177269513693,\n",
       "  52.641362427072735,\n",
       "  23.26782166293998,\n",
       "  25.2416909013448,\n",
       "  35.142828984839504,\n",
       "  79.24458191574556,\n",
       "  17.576811172478237,\n",
       "  36.433373552269515,\n",
       "  32.42347798706921,\n",
       "  22.10668983104651,\n",
       "  51.10957625315573,\n",
       "  31.685115401483298,\n",
       "  28.593794158122055,\n",
       "  40.66931593318792,\n",
       "  66.81038419671488,\n",
       "  113.91251226222751,\n",
       "  29.436503712382933,\n",
       "  36.30198611513344,\n",
       "  25.95404283336816,\n",
       "  28.50580269348149,\n",
       "  33.10497650104391,\n",
       "  21.05562066807302,\n",
       "  32.3080069919072,\n",
       "  23.815661227772974,\n",
       "  39.961758309810996,\n",
       "  20.813292409466953,\n",
       "  15.231759844455793,\n",
       "  35.81923401260185,\n",
       "  35.249013192671285,\n",
       "  29.680536242205026,\n",
       "  17.30404393245092,\n",
       "  46.353378212261816,\n",
       "  35.66693236345597,\n",
       "  38.90487099087118,\n",
       "  29.624261583881573,\n",
       "  35.96795807102706,\n",
       "  39.223151720858304,\n",
       "  41.512282268877364,\n",
       "  33.106784011080556,\n",
       "  32.561246566798346,\n",
       "  46.27978944766258,\n",
       "  77.96349851165012,\n",
       "  17.765185260308936,\n",
       "  30.767694907778985,\n",
       "  45.21985734258593,\n",
       "  59.20641467211539,\n",
       "  30.646362042827608,\n",
       "  31.139074628621,\n",
       "  28.87074306163893,\n",
       "  33.68263947081563,\n",
       "  25.025203121836547,\n",
       "  27.933024583995774,\n",
       "  25.04332986324969,\n",
       "  68.44681720908768,\n",
       "  69.02142486359185,\n",
       "  35.77227789758893,\n",
       "  42.930990895361354,\n",
       "  17.56045434522688,\n",
       "  19.34715528353606,\n",
       "  32.65717001960591,\n",
       "  46.20605311572215,\n",
       "  47.79178266711512,\n",
       "  31.524263006400297,\n",
       "  22.02771883049286]}"
      ]
     },
     "execution_count": 65,
     "metadata": {},
     "output_type": "execute_result"
    },
    {
     "ename": "",
     "evalue": "",
     "output_type": "error",
     "traceback": [
      "\u001b[1;31mThe Kernel crashed while executing code in the current cell or a previous cell. \n",
      "\u001b[1;31mPlease review the code in the cell(s) to identify a possible cause of the failure. \n",
      "\u001b[1;31mClick <a href='https://aka.ms/vscodeJupyterKernelCrash'>here</a> for more info. \n",
      "\u001b[1;31mView Jupyter <a href='command:jupyter.viewOutput'>log</a> for further details."
     ]
    }
   ],
   "source": [
    "summary_stats"
   ]
  }
 ],
 "metadata": {
  "kernelspec": {
   "display_name": "Python 3",
   "language": "python",
   "name": "python3"
  },
  "language_info": {
   "codemirror_mode": {
    "name": "ipython",
    "version": 3
   },
   "file_extension": ".py",
   "mimetype": "text/x-python",
   "name": "python",
   "nbconvert_exporter": "python",
   "pygments_lexer": "ipython3",
   "version": "3.10.12"
  }
 },
 "nbformat": 4,
 "nbformat_minor": 2
}
