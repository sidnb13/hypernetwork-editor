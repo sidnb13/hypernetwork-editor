{
 "cells": [
  {
   "cell_type": "code",
   "execution_count": 52,
   "metadata": {},
   "outputs": [],
   "source": [
    "import csv\n",
    "from collections import defaultdict\n",
    "import re\n",
    "import random\n",
    "import torch\n",
    "import hydra\n",
    "import datasets\n",
    "from omegaconf import OmegaConf\n",
    "from transformers import GPT2LMHeadModel, GPT2Tokenizer\n",
    "from pathlib import Path\n",
    "import sys\n",
    "\n",
    "sys.path.append(\"..\")\n",
    "\n",
    "from data import get_task"
   ]
  },
  {
   "cell_type": "code",
   "execution_count": 53,
   "metadata": {},
   "outputs": [],
   "source": [
    "ckpt_dir = Path(\"/home/sid/hypernetwork-editor/assets/checkpoints/scone_ft_20240723_062748/step-80\")"
   ]
  },
  {
   "cell_type": "code",
   "execution_count": 54,
   "metadata": {},
   "outputs": [
    {
     "name": "stderr",
     "output_type": "stream",
     "text": [
      "/tmp/ipykernel_3490525/3606339382.py:6: FutureWarning: You are using `torch.load` with `weights_only=False` (the current default value), which uses the default pickle module implicitly. It is possible to construct malicious pickle data which will execute arbitrary code during unpickling (See https://github.com/pytorch/pytorch/blob/main/SECURITY.md#untrusted-models for more details). In a future release, the default value for `weights_only` will be flipped to `True`. This limits the functions that could be executed during unpickling. Arbitrary objects will no longer be allowed to be loaded via this mode unless they are explicitly allowlisted by the user via `torch.serialization.add_safe_globals`. We recommend you start setting `weights_only=True` for any use case where you don't have full control of the loaded file. Please open an issue on GitHub for any issues related to this experimental feature.\n",
      "  model.load_state_dict(torch.load(ckpt_dir / \"checkpoint.pt\", map_location=\"cpu\")[\"state\"])\n"
     ]
    },
    {
     "data": {
      "text/plain": [
       "<All keys matched successfully>"
      ]
     },
     "execution_count": 54,
     "metadata": {},
     "output_type": "execute_result"
    }
   ],
   "source": [
    "model_name = \"gpt2\"\n",
    "model = GPT2LMHeadModel.from_pretrained(model_name).to(\"cuda\")\n",
    "tokenizer = GPT2Tokenizer.from_pretrained(model_name)\n",
    "\n",
    "# load checkpoint\n",
    "model.load_state_dict(torch.load(ckpt_dir / \"checkpoint.pt\", map_location=\"cpu\")[\"state\"])"
   ]
  },
  {
   "cell_type": "code",
   "execution_count": 55,
   "metadata": {},
   "outputs": [],
   "source": [
    "tokenizer.pad_token_id = tokenizer.eos_token_id"
   ]
  },
  {
   "cell_type": "code",
   "execution_count": 56,
   "metadata": {},
   "outputs": [],
   "source": [
    "def generate_text(input_ids: torch.Tensor, max_new_tokens=100):\n",
    "    # Load pre-trained model and tokenizer\n",
    "    input_ids = input_ids.unsqueeze(0).cuda()\n",
    "\n",
    "    # Generate text\n",
    "    output = model.generate(\n",
    "        input_ids=input_ids,\n",
    "        max_new_tokens=max_new_tokens,\n",
    "        temperature=1e-5,\n",
    "    )\n",
    "    \n",
    "    # Decode the generated text\n",
    "    generated_text = tokenizer.decode(\n",
    "        output.squeeze(), skip_special_tokens=False\n",
    "    )\n",
    "\n",
    "    return generated_text"
   ]
  },
  {
   "cell_type": "code",
   "execution_count": 57,
   "metadata": {},
   "outputs": [],
   "source": [
    "config = OmegaConf.load(ckpt_dir / \"config.yaml\")"
   ]
  },
  {
   "cell_type": "code",
   "execution_count": 58,
   "metadata": {},
   "outputs": [],
   "source": [
    "dataset = get_task(config, config.task.name, \"val\")"
   ]
  },
  {
   "cell_type": "code",
   "execution_count": 77,
   "metadata": {},
   "outputs": [],
   "source": [
    "example = random.choice(dataset)"
   ]
  },
  {
   "cell_type": "code",
   "execution_count": 78,
   "metadata": {},
   "outputs": [],
   "source": [
    "prompt, label = example[\"instruction\"], example[\"target\"]\n",
    "ids = torch.tensor(example[\"input_ids\"])\n",
    "labels = torch.tensor(example[\"labels\"])\n",
    "mask = torch.tensor(example[\"attention_mask\"])\n",
    "ids = ids[torch.logical_and(labels < 0, mask > 0)]\n",
    "labels = labels[labels >=0 ]"
   ]
  },
  {
   "cell_type": "code",
   "execution_count": 79,
   "metadata": {},
   "outputs": [
    {
     "name": "stdout",
     "output_type": "stream",
     "text": [
      "<|endoftext|>the first beaker has 1 green, the second beaker has 1 red, the third beaker has 1 orange, the fourth beaker has 1 orange, the fifth beaker has 1 yellow, the sixth beaker has 1 green, the seventh beaker has 1 orange\n",
      "throw out second beaker\n",
      "the first beaker has 1 green, the second beaker is empty, the third beaker has 1 orange, the fourth beaker has 1 orange, the fifth beaker has 1 yellow, the sixth beaker has 1 green, the seventh beaker has 1 orange\n",
      "pour first beaker into fourth one\n",
      "the first beaker is empty, the second beaker is empty, the third beaker has 1 orange, the fourth beaker has {1 orange, 1 green}, the fifth beaker has 1 yellow, the sixth beaker has 1 green, the seventh beaker has 1 orange\n",
      "pour yellow beaker into sixth one\n",
      "the first beaker is empty, the second beaker is empty, the third beaker has 1 orange, the fourth beaker has {1 orange, 1 green}, the fifth beaker is empty, the sixth beaker has {1 green, 1 yellow}, the seventh beaker has 1 orange\n",
      "fourth beaker turns brown\n",
      "the first beaker is empty, the second beaker is empty, the third beaker has 1 orange, the fourth beaker has 2 brown, the fifth beaker is empty, the sixth beaker has {1 green, 1 yellow}, the seventh beaker has 1 orange\n",
      "sixth beaker turns brown\n"
     ]
    }
   ],
   "source": [
    "print(tokenizer.decode(ids))"
   ]
  },
  {
   "cell_type": "code",
   "execution_count": 80,
   "metadata": {},
   "outputs": [
    {
     "name": "stderr",
     "output_type": "stream",
     "text": [
      "The attention mask and the pad token id were not set. As a consequence, you may observe unexpected behavior. Please pass your input's `attention_mask` to obtain reliable results.\n",
      "Setting `pad_token_id` to `eos_token_id`:50256 for open-end generation.\n",
      "Setting `pad_token_id` to `eos_token_id`:50256 for open-end generation.\n"
     ]
    }
   ],
   "source": [
    "resp = generate_text(ids)"
   ]
  },
  {
   "cell_type": "code",
   "execution_count": 81,
   "metadata": {},
   "outputs": [
    {
     "name": "stdout",
     "output_type": "stream",
     "text": [
      "the first beaker is empty, the second beaker is empty, the third beaker has 1 orange, the fourth beaker has 2 brown, the fifth beaker is empty, the sixth beaker has {1 green, 1 yellow}, the seventh beaker has 1 orange<|endoftext|>\n"
     ]
    }
   ],
   "source": [
    "print(resp.replace(tokenizer.decode(ids), \"\").strip())"
   ]
  },
  {
   "cell_type": "code",
   "execution_count": 82,
   "metadata": {},
   "outputs": [
    {
     "name": "stdout",
     "output_type": "stream",
     "text": [
      "the first beaker is empty, the second beaker is empty, the third beaker has 1 orange, the fourth beaker has 2 brown, the fifth beaker is empty, the sixth beaker has 2 brown, the seventh beaker has 1 orange\n"
     ]
    }
   ],
   "source": [
    "print(label)"
   ]
  }
 ],
 "metadata": {
  "kernelspec": {
   "display_name": "editor",
   "language": "python",
   "name": "python3"
  },
  "language_info": {
   "codemirror_mode": {
    "name": "ipython",
    "version": 3
   },
   "file_extension": ".py",
   "mimetype": "text/x-python",
   "name": "python",
   "nbconvert_exporter": "python",
   "pygments_lexer": "ipython3",
   "version": "3.10.12"
  }
 },
 "nbformat": 4,
 "nbformat_minor": 2
}
